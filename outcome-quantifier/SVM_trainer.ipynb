{
 "cells": [
  {
   "cell_type": "code",
   "execution_count": 1,
   "source": [
    "import re\n",
    "import string\n",
    "import pickle\n",
    "import unicodedata\n",
    "import matplotlib.pyplot as plt\n",
    "import numpy as np\n",
    "import pandas as pd\n",
    "import seaborn as sns; sns.set()\n",
    "\n",
    "import nltk\n",
    "from nltk.corpus import stopwords\n",
    "from nltk.tokenize import word_tokenize\n",
    "from nltk import ngrams"
   ],
   "outputs": [],
   "metadata": {}
  },
  {
   "cell_type": "code",
   "execution_count": 2,
   "source": [
    "## sklearn\n",
    "import sklearn.svm as svm\n",
    "from sklearn.pipeline import Pipeline\n",
    "from sklearn.feature_extraction.text import TfidfVectorizer\n",
    "from sklearn.metrics import f1_score, precision_score, recall_score, accuracy_score\n",
    "from sklearn.model_selection import train_test_split, cross_val_score\n",
    "\n",
    "## Scipy\n",
    "from scipy.sparse import csr_matrix"
   ],
   "outputs": [],
   "metadata": {}
  },
  {
   "cell_type": "markdown",
   "source": [
    "# SVM Classifier"
   ],
   "metadata": {}
  },
  {
   "cell_type": "code",
   "execution_count": null,
   "source": [
    "X = pd.read_csv()"
   ],
   "outputs": [],
   "metadata": {}
  },
  {
   "cell_type": "code",
   "execution_count": 14,
   "source": [
    "## Build features for clean_text\n",
    "feature_arrays = []\n",
    "features = [x[1] for x in sorted(coefs_and_features, key=lambda x: x[0], reverse=True)[:5000]]\n",
    "\n",
    "for feature in features:\n",
    "    feature_arrays.append(df.clean_text.str.contains(feature).map(int).values)"
   ],
   "outputs": [],
   "metadata": {}
  },
  {
   "cell_type": "code",
   "execution_count": 54,
   "source": [
    "## Build train & test set \n",
    "# X = df.drop(columns=['text', 'source', 'label', 'clean_text', 'split'])\n",
    "X = pd.DataFrame(np.stack(feature_arrays, axis=1), columns=features)\n",
    "Y = df.label\n",
    "X_train,X_test,Y_train,Y_test = train_test_split(X, Y, random_state=20)"
   ],
   "outputs": [],
   "metadata": {}
  },
  {
   "cell_type": "code",
   "execution_count": 55,
   "source": [
    "## 5-fold cross validation\n",
    "clf = svm.LinearSVC()\n",
    "\n",
    "cv_metrics = [cross_val_score(clf, X, Y, cv=5, scoring='precision').mean(),\n",
    "              cross_val_score(clf, X, Y, cv=5, scoring='recall').mean(),\n",
    "              cross_val_score(clf, X, Y, cv=5, scoring='accuracy').mean(),\n",
    "              cross_val_score(clf, X, Y, cv=5, scoring='f1').mean()]\n",
    "metric[positive_file_names[0] + \"_CV\"] = cv_metrics"
   ],
   "outputs": [],
   "metadata": {}
  },
  {
   "cell_type": "code",
   "execution_count": 56,
   "source": [
    "clf.fit(X_train, Y_train)\n",
    "print(\"SVM claasifier F1 score: {0}\".format(f1_score(Y_test, clf.predict(X_test))))\n",
    "\n",
    "test_metrics = [precision_score(Y_test, clf.predict(X_test)),\n",
    "                recall_score(Y_test, clf.predict(X_test)),\n",
    "                accuracy_score(Y_test, clf.predict(X_test)),\n",
    "                f1_score(Y_test, clf.predict(X_test))]\n",
    "metric[positive_file_names[0] + \"_test\"] = test_metrics"
   ],
   "outputs": [
    {
     "output_type": "stream",
     "name": "stdout",
     "text": [
      "SVM claasifier F1 score: 0.869750283768445\n"
     ]
    }
   ],
   "metadata": {}
  },
  {
   "cell_type": "code",
   "execution_count": 57,
   "source": [
    "## Save the model\n",
    "with open(positive_file_names[0] + '.sav', 'wb') as sav:\n",
    "    pickle.dump(clf, sav)\n",
    "# loaded_model = pickle.load(open(positive_file_names[0] + '.sav', 'rb'))"
   ],
   "outputs": [],
   "metadata": {}
  },
  {
   "cell_type": "code",
   "execution_count": 58,
   "source": [
    "metric"
   ],
   "outputs": [
    {
     "output_type": "execute_result",
     "data": {
      "text/html": [
       "<div>\n",
       "<style scoped>\n",
       "    .dataframe tbody tr th:only-of-type {\n",
       "        vertical-align: middle;\n",
       "    }\n",
       "\n",
       "    .dataframe tbody tr th {\n",
       "        vertical-align: top;\n",
       "    }\n",
       "\n",
       "    .dataframe thead th {\n",
       "        text-align: right;\n",
       "    }\n",
       "</style>\n",
       "<table border=\"1\" class=\"dataframe\">\n",
       "  <thead>\n",
       "    <tr style=\"text-align: right;\">\n",
       "      <th></th>\n",
       "      <th>psychosis_CV</th>\n",
       "      <th>psychosis_test</th>\n",
       "      <th>stress_CV</th>\n",
       "      <th>stress_test</th>\n",
       "    </tr>\n",
       "  </thead>\n",
       "  <tbody>\n",
       "    <tr>\n",
       "      <th>Precision</th>\n",
       "      <td>0.942569</td>\n",
       "      <td>0.940184</td>\n",
       "      <td>0.943771</td>\n",
       "      <td>0.950472</td>\n",
       "    </tr>\n",
       "    <tr>\n",
       "      <th>Recall</th>\n",
       "      <td>0.810164</td>\n",
       "      <td>0.809134</td>\n",
       "      <td>0.761881</td>\n",
       "      <td>0.750466</td>\n",
       "    </tr>\n",
       "    <tr>\n",
       "      <th>Accuracy</th>\n",
       "      <td>0.880374</td>\n",
       "      <td>0.877059</td>\n",
       "      <td>0.858271</td>\n",
       "      <td>0.854392</td>\n",
       "    </tr>\n",
       "    <tr>\n",
       "      <th>F1</th>\n",
       "      <td>0.871249</td>\n",
       "      <td>0.869750</td>\n",
       "      <td>0.842403</td>\n",
       "      <td>0.838710</td>\n",
       "    </tr>\n",
       "  </tbody>\n",
       "</table>\n",
       "</div>"
      ],
      "text/plain": [
       "           psychosis_CV  psychosis_test  stress_CV  stress_test\n",
       "Precision      0.942569        0.940184   0.943771     0.950472\n",
       "Recall         0.810164        0.809134   0.761881     0.750466\n",
       "Accuracy       0.880374        0.877059   0.858271     0.854392\n",
       "F1             0.871249        0.869750   0.842403     0.838710"
      ]
     },
     "metadata": {},
     "execution_count": 58
    }
   ],
   "metadata": {}
  }
 ],
 "metadata": {
  "interpreter": {
   "hash": "2bc74cc49154a9ee15c00e6801fd896878f8e345944270608f40bd45df5df7c1"
  },
  "kernelspec": {
   "name": "python3",
   "display_name": "Python 3.9.6 64-bit ('causal_inference': conda)"
  },
  "language_info": {
   "codemirror_mode": {
    "name": "ipython",
    "version": 3
   },
   "file_extension": ".py",
   "mimetype": "text/x-python",
   "name": "python",
   "nbconvert_exporter": "python",
   "pygments_lexer": "ipython3",
   "version": "3.9.6"
  }
 },
 "nbformat": 4,
 "nbformat_minor": 2
}