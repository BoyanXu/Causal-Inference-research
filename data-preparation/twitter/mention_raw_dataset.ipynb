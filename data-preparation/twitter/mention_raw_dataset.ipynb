{
 "cells": [
  {
   "cell_type": "code",
   "execution_count": 5,
   "metadata": {},
   "outputs": [],
   "source": [
    "import json\n",
    "from datetime import datetime, timezone, timedelta\n",
    "\n",
    "from twarc.client2 import Twarc2\n",
    "from twarc_csv import CSVConverter"
   ]
  },
  {
   "cell_type": "code",
   "execution_count": null,
   "metadata": {},
   "outputs": [],
   "source": [
    "# Start and end times must be in UTC\n",
    "start_time = datetime.datetime(2021, 3, 21, 0, 0, 0, 0, datetime.timezone.utc)\n",
    "end_time = datetime.datetime(2021, 3, 22, 0, 0, 0, 0, datetime.timezone.utc)\n",
    "\n",
    "# search_results is a generator, max_results is max tweets per page, 100 max for full archive search with all expansions.\n",
    "search_results = t.search_all(query=\"dogs lang:en -is:retweet\", start_time=start_time, end_time=end_time, max_results=100)\n",
    "\n",
    "# Get all results page by page:\n",
    "for page in search_results:\n",
    "    for tweet in ensure_flattened(page):\n",
    "        # Do something with the tweet\n",
    "        print(tweet)\n",
    "\n",
    "    # Stop iteration prematurely, to only get 1 page of results.\n",
    "    break"
   ]
  },
  {
   "cell_type": "code",
   "execution_count": 9,
   "metadata": {},
   "outputs": [
    {
     "name": "stdout",
     "output_type": "stream",
     "text": [
      "Searching for \"Dosulepin lang:en\" tweets from 2021-11-11 02:18:25.187165+00:00 to 2021-11-11 05:17:25.187221+00:00...\n",
      "Converting to CSV...\n"
     ]
    },
    {
     "name": "stderr",
     "output_type": "stream",
     "text": [
      "100%|██████████| Processed 99.3k/99.3k of input file [00:00<00:00, 7.98MB/s]"
     ]
    },
    {
     "name": "stdout",
     "output_type": "stream",
     "text": [
      "Finished.\n"
     ]
    },
    {
     "name": "stderr",
     "output_type": "stream",
     "text": [
      "\n"
     ]
    }
   ],
   "source": [
    "# Your bearer token here\n",
    "t = Twarc2(bearer_token=\"AAAAAAAAAAAAAAAAAAAAAH2jMQEAAAAAdzsxOiAgrZGAOaec6F2%2FFSF7zu8%3DMp5RXoPPkGgnyBrBYe43YlytYkmponbdt2MNZKbY388Bvm20DI\")\n",
    "\n",
    "# Start and end times must be in UTC\n",
    "start_time = datetime.now(timezone.utc) + timedelta(hours=-3)\n",
    "# end_time cannot be immediately now, has to be at least 30 seconds ago.\n",
    "end_time = datetime.now(timezone.utc) + timedelta(minutes=-1)\n",
    "\n",
    "query = \"Dosulepin lang:en\"\n",
    "\n",
    "print(f\"Searching for \\\"{query}\\\" tweets from {start_time} to {end_time}...\")\n",
    "\n",
    "# search_results is a generator, max_results is max tweets per page, not total, 100 is max when using all expansions.\n",
    "search_results = t.search_recent(query=query, start_time=start_time, end_time=end_time, max_results=100)\n",
    "\n",
    "# Get all results page by page:\n",
    "for page in search_results:\n",
    "    # Do something with the page of results:\n",
    "    with open(\"dogs_results.jsonl\", \"w+\") as f:\n",
    "        f.write(json.dumps(page) + \"\\n\")\n",
    "    print(\"Wrote a page of results...\")\n",
    "\n",
    "print(\"Converting to CSV...\")\n",
    "\n",
    "# This assumes `results.jsonl` is finished writing.\n",
    "with open(\"dogs_results.jsonl\", \"r\") as infile:\n",
    "    with open(\"dogs_output.csv\", \"w\") as outfile:\n",
    "        converter = CSVConverter(infile, outfile)\n",
    "        converter.process()\n",
    "\n",
    "print(\"Finished.\")"
   ]
  },
  {
   "cell_type": "code",
   "execution_count": null,
   "metadata": {},
   "outputs": [],
   "source": []
  }
 ],
 "metadata": {
  "interpreter": {
   "hash": "73d6feaf918abfbe952f1f5ea1b36350b7ac7a66c798acec4a84f569cce37f57"
  },
  "kernelspec": {
   "display_name": "Python 3.9.6 64-bit ('causal_inference': conda)",
   "language": "python",
   "name": "python3"
  },
  "language_info": {
   "codemirror_mode": {
    "name": "ipython",
    "version": 3
   },
   "file_extension": ".py",
   "mimetype": "text/x-python",
   "name": "python",
   "nbconvert_exporter": "python",
   "pygments_lexer": "ipython3",
   "version": "3.9.6"
  },
  "orig_nbformat": 4
 },
 "nbformat": 4,
 "nbformat_minor": 2
}
